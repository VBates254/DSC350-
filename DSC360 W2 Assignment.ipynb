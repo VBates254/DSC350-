{
 "cells": [
  {
   "cell_type": "code",
   "execution_count": 1,
   "id": "25532ffd-c902-4441-a339-47732020efcf",
   "metadata": {},
   "outputs": [
    {
     "name": "stdout",
     "output_type": "stream",
     "text": [
      "Activity: Binge watch a trending series\n",
      "Key: 5881647\n",
      "Link: \"\"\n",
      "Participants: 1\n",
      "Price: $0.20\n",
      "Type: Recreational\n",
      "Accessibility: 0.2\n"
     ]
    }
   ],
   "source": [
    "import requests\n",
    "\n",
    "# Step 1: Random activity\n",
    "response = requests.get(\"https://bored.api.lewagon.com/api/activity\")\n",
    "activity_data = response.json()\n",
    "\n",
    "# Step 2: Key\n",
    "activity_key = activity_data['key']\n",
    "\n",
    "# Step 3: Specific activity from key\n",
    "key_response = requests.get(f\"https://bored.api.lewagon.com/api/activity?key={activity_key}\")\n",
    "key_activity = key_response.json()\n",
    "\n",
    "# Step 4: Format and print the output\n",
    "print(f\"Activity: {key_activity['activity']}\")\n",
    "print(f\"Key: {key_activity['key']}\")\n",
    "print(f\"Link: \\\"{key_activity['link']}\\\"\")\n",
    "print(f\"Participants: {key_activity['participants']}\")\n",
    "print(f\"Price: ${key_activity['price']:.2f}\")\n",
    "print(f\"Type: {key_activity['type'].capitalize()}\")\n",
    "print(f\"Accessibility: {key_activity['accessibility']}\")"
   ]
  },
  {
   "cell_type": "code",
   "execution_count": null,
   "id": "e5d5dfef-14ac-4079-af0d-f1cad6fd9c2e",
   "metadata": {},
   "outputs": [],
   "source": []
  }
 ],
 "metadata": {
  "kernelspec": {
   "display_name": "Python 3 (ipykernel)",
   "language": "python",
   "name": "python3"
  },
  "language_info": {
   "codemirror_mode": {
    "name": "ipython",
    "version": 3
   },
   "file_extension": ".py",
   "mimetype": "text/x-python",
   "name": "python",
   "nbconvert_exporter": "python",
   "pygments_lexer": "ipython3",
   "version": "3.11.4"
  }
 },
 "nbformat": 4,
 "nbformat_minor": 5
}
