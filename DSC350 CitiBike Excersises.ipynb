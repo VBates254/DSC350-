{
 "cells": [
  {
   "cell_type": "code",
   "execution_count": null,
   "id": "c53e1bdd-8e70-4912-99f8-2ba018801050",
   "metadata": {},
   "outputs": [],
   "source": [
    "# 2- 15: Psuedocode\n",
    "# Goal: see how many of each user type takes a ride each day\n",
    "\n",
    "# dataset: Citibike Data JC-202009 from https://s3.amazonaws.com/tripdata/index.html\n",
    "# outline:\n",
    "# 1. Import needed libraries\n",
    "# 2. Load and read the file\n",
    "# 3. Show the field names so we know what to work with\n",
    "# 4. Set count to 0 for each type of user\n",
    "#    a. Subscriber \n",
    "#    b. Customer    \n",
    "#    c. Other User\n",
    "# 5. Run a loop to count each user type\n",
    "#    a. Subscriber (+1)\n",
    "#    b. Customer   (+1) \n",
    "#    c. Other User (+1)\n",
    "# 6. Print the results\n"
   ]
  },
  {
   "cell_type": "code",
   "execution_count": 7,
   "id": "afcd6827-7df7-4dad-b271-17289ae45c75",
   "metadata": {},
   "outputs": [
    {
     "name": "stdout",
     "output_type": "stream",
     "text": [
      "<csv.DictReader object at 0x00000250C49181D0>\n",
      "['tripduration', 'starttime', 'stoptime', 'start station id', 'start station name', 'start station latitude', 'start station longitude', 'end station id', 'end station name', 'end station latitude', 'end station longitude', 'bikeid', 'usertype', 'birth year', 'gender']\n",
      "RESULTS:\n",
      "Number of Subscribers:  35284\n",
      "Number of Customers:  18549\n",
      "Number of Other Users:  0\n"
     ]
    }
   ],
   "source": [
    "# 2-16\n",
    "# Libraries\n",
    "import csv\n",
    "\n",
    "# Read the file and get names of fields\n",
    "source = open(\"C:/Users/vampr/Desktop/JC-202009-citibike-tripdata.csv\") # Pull CSV from computer\n",
    "citibike = csv.DictReader(source)\n",
    "print(citibike)\n",
    "print(citibike.fieldnames)\n",
    "\n",
    "# 2-17: create a variable to hold the count of each type of Citi Bike user\n",
    "# Assign or initialize each with a value of zero\n",
    "\n",
    "subscriber = 0\n",
    "customer = 0\n",
    "other = 0\n",
    "\n",
    "# 2-18: loop through every row\n",
    "for a_row in citibike:\n",
    "\n",
    "    # Count how many users are subscribers, adding 1 to the count for each occurence \n",
    "    if a_row[\"usertype\"] == \"Subscriber\":\n",
    "        subscriber = subscriber + 1\n",
    "    # Count how many users are customers, adding 1 to the count for each occurence\n",
    "    elif a_row[\"usertype\"] == \"Customer\":\n",
    "        customer = customer + 1\n",
    "    # Add 1 to other for any other occurnece that isn't Subscriber or Customer\n",
    "    else:\n",
    "        other = other + 1\n",
    "\n",
    "# 2-19: Print the results\n",
    "# Show the results from the above code\n",
    "print(\"RESULTS:\")\n",
    "print(\"Number of Subscribers: \", subscriber)\n",
    "print(\"Number of Customers: \", customer)\n",
    "print(\"Number of Other Users: \", other)"
   ]
  },
  {
   "cell_type": "code",
   "execution_count": null,
   "id": "66c942d1-7efb-4fa7-b77c-0c9a5be2a28b",
   "metadata": {},
   "outputs": [],
   "source": []
  }
 ],
 "metadata": {
  "kernelspec": {
   "display_name": "Python 3 (ipykernel)",
   "language": "python",
   "name": "python3"
  },
  "language_info": {
   "codemirror_mode": {
    "name": "ipython",
    "version": 3
   },
   "file_extension": ".py",
   "mimetype": "text/x-python",
   "name": "python",
   "nbconvert_exporter": "python",
   "pygments_lexer": "ipython3",
   "version": "3.11.4"
  }
 },
 "nbformat": 4,
 "nbformat_minor": 5
}
