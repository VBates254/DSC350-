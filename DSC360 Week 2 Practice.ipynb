{
 "cells": [
  {
   "cell_type": "code",
   "execution_count": 1,
   "id": "d1fb3a4f-5889-487b-ac96-0f76daea9c50",
   "metadata": {},
   "outputs": [],
   "source": [
    "# API Practice - How to Use an API in Python; dataquest.io\n",
    "# (https://www.dataquest.io/blog/api-in-python/)\n",
    "import requests\n"
   ]
  },
  {
   "cell_type": "code",
   "execution_count": 2,
   "id": "3c1299bd-2c3f-4bae-afb3-ad6f0bd45b3a",
   "metadata": {},
   "outputs": [
    {
     "name": "stdout",
     "output_type": "stream",
     "text": [
      "404\n"
     ]
    }
   ],
   "source": [
    "# try makeing a GET request to an API that doesn't exisist...\n",
    "response = requests.get(\"http://api.open-notify.org/this-api-doesnt-exist\")\n",
    "print(response.status_code) #Should print 404"
   ]
  },
  {
   "cell_type": "code",
   "execution_count": 3,
   "id": "9b004c09-98a3-4526-977c-8cf05430fc26",
   "metadata": {},
   "outputs": [
    {
     "name": "stdout",
     "output_type": "stream",
     "text": [
      "200\n"
     ]
    }
   ],
   "source": [
    "# GET request to  endpoint using requests library\n",
    "response = requests.get(\"http://api.open-notify.org/astros\")\n",
    "print(response.status_code) #should print 200\n",
    "\n",
    "# 200 response code = \"Everything went okay, and the result has been returned\""
   ]
  },
  {
   "cell_type": "code",
   "execution_count": 4,
   "id": "ff4e939f-a6fe-4c79-af55-a001c904d082",
   "metadata": {},
   "outputs": [
    {
     "name": "stdout",
     "output_type": "stream",
     "text": [
      "{'people': [{'craft': 'ISS', 'name': 'Oleg Kononenko'}, {'craft': 'ISS', 'name': 'Nikolai Chub'}, {'craft': 'ISS', 'name': 'Tracy Caldwell Dyson'}, {'craft': 'ISS', 'name': 'Matthew Dominick'}, {'craft': 'ISS', 'name': 'Michael Barratt'}, {'craft': 'ISS', 'name': 'Jeanette Epps'}, {'craft': 'ISS', 'name': 'Alexander Grebenkin'}, {'craft': 'ISS', 'name': 'Butch Wilmore'}, {'craft': 'ISS', 'name': 'Sunita Williams'}, {'craft': 'Tiangong', 'name': 'Li Guangsu'}, {'craft': 'Tiangong', 'name': 'Li Cong'}, {'craft': 'Tiangong', 'name': 'Ye Guangfu'}], 'number': 12, 'message': 'success'}\n"
     ]
    }
   ],
   "source": [
    "# API response in JSON format\n",
    "print(response.json())"
   ]
  },
  {
   "cell_type": "code",
   "execution_count": 5,
   "id": "8bb11557-6147-4cf6-839c-ddf29a89fe84",
   "metadata": {},
   "outputs": [
    {
     "name": "stdout",
     "output_type": "stream",
     "text": [
      "{\n",
      "    \"message\": \"success\",\n",
      "    \"number\": 12,\n",
      "    \"people\": [\n",
      "        {\n",
      "            \"craft\": \"ISS\",\n",
      "            \"name\": \"Oleg Kononenko\"\n",
      "        },\n",
      "        {\n",
      "            \"craft\": \"ISS\",\n",
      "            \"name\": \"Nikolai Chub\"\n",
      "        },\n",
      "        {\n",
      "            \"craft\": \"ISS\",\n",
      "            \"name\": \"Tracy Caldwell Dyson\"\n",
      "        },\n",
      "        {\n",
      "            \"craft\": \"ISS\",\n",
      "            \"name\": \"Matthew Dominick\"\n",
      "        },\n",
      "        {\n",
      "            \"craft\": \"ISS\",\n",
      "            \"name\": \"Michael Barratt\"\n",
      "        },\n",
      "        {\n",
      "            \"craft\": \"ISS\",\n",
      "            \"name\": \"Jeanette Epps\"\n",
      "        },\n",
      "        {\n",
      "            \"craft\": \"ISS\",\n",
      "            \"name\": \"Alexander Grebenkin\"\n",
      "        },\n",
      "        {\n",
      "            \"craft\": \"ISS\",\n",
      "            \"name\": \"Butch Wilmore\"\n",
      "        },\n",
      "        {\n",
      "            \"craft\": \"ISS\",\n",
      "            \"name\": \"Sunita Williams\"\n",
      "        },\n",
      "        {\n",
      "            \"craft\": \"Tiangong\",\n",
      "            \"name\": \"Li Guangsu\"\n",
      "        },\n",
      "        {\n",
      "            \"craft\": \"Tiangong\",\n",
      "            \"name\": \"Li Cong\"\n",
      "        },\n",
      "        {\n",
      "            \"craft\": \"Tiangong\",\n",
      "            \"name\": \"Ye Guangfu\"\n",
      "        }\n",
      "    ]\n",
      "}\n"
     ]
    }
   ],
   "source": [
    "# JSON Library in Python practice\n",
    "# code from article\n",
    "import json\n",
    "\n",
    "#create a formatted string of the Python JSON onject\n",
    "def jprint(obj):\n",
    "    text = json.dumps(obj, sort_keys = True, indent = 4)\n",
    "    print(text)\n",
    "\n",
    "jprint(response.json())"
   ]
  },
  {
   "cell_type": "code",
   "execution_count": null,
   "id": "fdbbda88-4879-4df7-9676-20595ae310d9",
   "metadata": {},
   "outputs": [],
   "source": []
  }
 ],
 "metadata": {
  "kernelspec": {
   "display_name": "Python 3 (ipykernel)",
   "language": "python",
   "name": "python3"
  },
  "language_info": {
   "codemirror_mode": {
    "name": "ipython",
    "version": 3
   },
   "file_extension": ".py",
   "mimetype": "text/x-python",
   "name": "python",
   "nbconvert_exporter": "python",
   "pygments_lexer": "ipython3",
   "version": "3.11.4"
  }
 },
 "nbformat": 4,
 "nbformat_minor": 5
}
